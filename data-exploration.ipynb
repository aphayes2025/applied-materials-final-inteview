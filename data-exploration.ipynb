{
 "cells": [
  {
   "cell_type": "code",
   "execution_count": 1,
   "metadata": {},
   "outputs": [
    {
     "data": {
      "text/plain": [
       "'\\nAidan Hayes\\nData Analysis of UCI Iris Dataset \\nApplied Materials Final Interview\\n3/6/2025\\n'"
      ]
     },
     "execution_count": 1,
     "metadata": {},
     "output_type": "execute_result"
    }
   ],
   "source": [
    "'''\n",
    "Aidan Hayes\n",
    "Data Analysis of UCI Iris Dataset \n",
    "Applied Materials Final Interview\n",
    "3/6/2025\n",
    "'''"
   ]
  },
  {
   "cell_type": "code",
   "execution_count": 2,
   "metadata": {},
   "outputs": [],
   "source": [
    "import pandas as pd \n",
    "import matplotlib.pyplot as plt\n",
    "from scipy.stats import f_oneway\n",
    "from statsmodels.stats.multicomp import pairwise_tukeyhsd"
   ]
  },
  {
   "cell_type": "code",
   "execution_count": 3,
   "metadata": {},
   "outputs": [
    {
     "name": "stdout",
     "output_type": "stream",
     "text": [
      "<class 'pandas.core.frame.DataFrame'>\n",
      "RangeIndex: 150 entries, 0 to 149\n",
      "Data columns (total 2 columns):\n",
      " #   Column       Non-Null Count  Dtype  \n",
      "---  ------       --------------  -----  \n",
      " 0   sepal_width  150 non-null    float64\n",
      " 1   target       150 non-null    object \n",
      "dtypes: float64(1), object(1)\n",
      "memory usage: 2.5+ KB\n",
      "None\n"
     ]
    }
   ],
   "source": [
    "# opening and cleaning data\n",
    "df = pd.read_csv('iris-data/iris_dataset.csv')\n",
    "\n",
    "df.rename(columns={'sepal length (cm)': \"sepal_length\", \"sepal width (cm)\": \"sepal_width\", \n",
    "                   'petal length (cm)': 'petal_length', 'petal width (cm)': 'petal_width'}, inplace=True)\n",
    "\n",
    "df_sepal_width = df[[\"sepal_width\", \"target\"]]\n",
    "\n",
    "print(df_sepal_width.info())"
   ]
  },
  {
   "cell_type": "code",
   "execution_count": 4,
   "metadata": {},
   "outputs": [
    {
     "data": {
      "image/png": "[encoded data removed]",
      "text/plain": [
       "<Figure size 1000x700 with 1 Axes>"
      ]
     },
     "metadata": {},
     "output_type": "display_data"
    },
    {
     "data": {
      "text/plain": [
       "'\\nThrough examining our boxplot we can identify that there is a variance among the mean sepal_width among our 3 different features.\\nStatistically, we can conduct an ANOVA test to examine whether our means are staticially significant or not. \\n'"
      ]
     },
     "execution_count": 4,
     "metadata": {},
     "output_type": "execute_result"
    }
   ],
   "source": [
    "# exploring data analysis\n",
    "\n",
    "# using box plot to examine why we might need to conduct an ANOVA test \n",
    "unique_target_values = df_sepal_width['target'].unique()\n",
    "\n",
    "setosa_sepal_data = []\n",
    "versicolor_sepal_data = []\n",
    "virginica_sepal_data = []\n",
    "\n",
    "for row, col in df_sepal_width.iterrows():\n",
    "    if col['target'] == unique_target_values[0]: # setosa\n",
    "        setosa_sepal_data.append(col['sepal_width'])\n",
    "\n",
    "    elif col['target'] == unique_target_values[1]: # versicolor\n",
    "        versicolor_sepal_data.append(col['sepal_width'])\n",
    "\n",
    "    elif col['target'] == unique_target_values[2]: # virginica'\n",
    "        virginica_sepal_data.append(col['sepal_width'])\n",
    "\n",
    "\n",
    "box_plot_data = [setosa_sepal_data, versicolor_sepal_data, virginica_sepal_data]\n",
    "\n",
    "fig = plt.figure(figsize=(10,7))\n",
    "ax = fig.add_axes([0, 0, 1, 1])\n",
    "bx = ax.boxplot(box_plot_data, showmeans=True)\n",
    "ax.set_xticklabels(['Setosa', 'Versicolor', 'Virginica'])\n",
    "ax.set_ylabel('Sepal Width (cm)')\n",
    "plt.show()\n",
    "\n",
    "'''\n",
    "Through examining our boxplot we can identify that there is a variance among the mean sepal_width among our 3 different features.\n",
    "Statistically, we can conduct an ANOVA test to examine whether our means are staticially significant or not. \n",
    "'''"
   ]
  },
  {
   "cell_type": "code",
   "execution_count": 5,
   "metadata": {},
   "outputs": [
    {
     "name": "stdout",
     "output_type": "stream",
     "text": [
      "Setosa data:\n",
      "count    50.000000\n",
      "mean      3.418000\n",
      "std       0.381024\n",
      "min       2.300000\n",
      "25%       3.125000\n",
      "50%       3.400000\n",
      "75%       3.675000\n",
      "max       4.400000\n",
      "dtype: float64\n",
      "\n",
      "Versicolor data:\n",
      "count    50.000000\n",
      "mean      2.770000\n",
      "std       0.313798\n",
      "min       2.000000\n",
      "25%       2.525000\n",
      "50%       2.800000\n",
      "75%       3.000000\n",
      "max       3.400000\n",
      "dtype: float64\n",
      "\n",
      "Virginica data:\n",
      "count    50.000000\n",
      "mean      2.974000\n",
      "std       0.322497\n",
      "min       2.200000\n",
      "25%       2.800000\n",
      "50%       3.000000\n",
      "75%       3.175000\n",
      "max       3.800000\n",
      "dtype: float64\n",
      "\n"
     ]
    }
   ],
   "source": [
    "# Printing out data about count, mean, std_dev, quartiles etc per feature \n",
    "ser1 = pd.Series(data=setosa_sepal_data)\n",
    "ser2 = pd.Series(data=versicolor_sepal_data)\n",
    "ser3 = pd.Series(data=virginica_sepal_data)\n",
    "\n",
    "print(f'Setosa data:\\n{ser1.describe()}\\n')\n",
    "print(f'Versicolor data:\\n{ser2.describe()}\\n')\n",
    "print(f'Virginica data:\\n{ser3.describe()}\\n')"
   ]
  },
  {
   "cell_type": "code",
   "execution_count": 6,
   "metadata": {},
   "outputs": [
    {
     "name": "stdout",
     "output_type": "stream",
     "text": [
      "The t-stat is 47.36446140299382 and the p-val is 1.3279165184572242e-16\n"
     ]
    },
    {
     "data": {
      "text/plain": [
       "'\\nThe p-value of the one-way analysis is 1.32e-16, passing the typical 0.05 threshold.\\nAllowing us to reject the Null hypothesis and conclude the alternate, that the mean sepal_width is not the same for the three features.\\n'"
      ]
     },
     "execution_count": 6,
     "metadata": {},
     "output_type": "execute_result"
    }
   ],
   "source": [
    "'''\n",
    "Conducting an ANOVA test on our data \n",
    "\n",
    "Ho: The mean population of the three features have the same mean sepal_width\n",
    "Ha: The mean population of the three features do not have the same mean sepal_width\n",
    "\n",
    "# We use one-way ANOVA test because we are working with one independent variable(sepal_width)\n",
    "'''\n",
    "\n",
    "results = f_oneway(setosa_sepal_data, versicolor_sepal_data, virginica_sepal_data)\n",
    "print(f'The t-stat is {results.statistic} and the p-val is {results.pvalue}')\n",
    "\n",
    "'''\n",
    "The p-value of the one-way analysis is 1.32e-16, passing the typical 0.05 threshold.\n",
    "Allowing us to reject the Null hypothesis and conclude the alternate, that the mean sepal_width is not the same for the three features.\n",
    "'''"
   ]
  },
  {
   "cell_type": "code",
   "execution_count": 7,
   "metadata": {},
   "outputs": [
    {
     "name": "stdout",
     "output_type": "stream",
     "text": [
      "[2.14273044e-14 3.14740867e-09 8.95213445e-03]\n",
      "[ True  True  True]\n"
     ]
    },
    {
     "data": {
      "text/plain": [
       "'\\nAs we can see, it was found that all combinations were found to be different from each other through p-values.\\nWe reject all of our null hypothesis and conclude that T1, T2 and T3 all produce significantly different means\\n'"
      ]
     },
     "execution_count": 7,
     "metadata": {},
     "output_type": "execute_result"
    }
   ],
   "source": [
    "'''\n",
    "Conducting a Tukey-HSD\n",
    "\n",
    "Now we have figured out there is a difference in sepal_width but it begs the question: which population differences are significant?\n",
    "Is it just Setosa and Versicolor, or Versicolor and Virginica, or all of them?\n",
    "We want to identify which pairs of populations are likely significantly different from each other.\n",
    "Since we have samples of equal size, we will use Tukey Honesty Significant Difference (HSD).\n",
    "\n",
    "We will call setosa T1, Versicolor, T2 and Virginica T3.\n",
    "\n",
    "1 Ho: mean(t1) = mean(t2), Ha: mean(t1) != mean(t2)\n",
    "2 Ho: mean(t3) = mean(t3), Ha: mean(t2) != mean(t3)\n",
    "3 Ho: mean(t1) = mean(t3), Ha: mean(t1) != mean(t3)\n",
    "'''\n",
    "\n",
    "# Stats models needs one single dataset, so \n",
    "model_result = pairwise_tukeyhsd(endog=df_sepal_width['sepal_width'], groups=df_sepal_width['target'], alpha=0.05)\n",
    "\n",
    "print(model_result.pvalues)\n",
    "print(model_result.reject)\n",
    "\n",
    "'''\n",
    "As we can see, it was found that all combinations were found to be different from each other through p-values.\n",
    "We reject all of our null hypothesis and conclude that T1, T2 and T3 all produce significantly different means\n",
    "'''"
   ]
  }
 ],
 "metadata": {
  "kernelspec": {
   "display_name": ".venv",
   "language": "python",
   "name": "python3"
  },
  "language_info": {
   "codemirror_mode": {
    "name": "ipython",
    "version": 3
   },
   "file_extension": ".py",
   "mimetype": "text/x-python",
   "name": "python",
   "nbconvert_exporter": "python",
   "pygments_lexer": "ipython3",
   "version": "3.13.0"
  }
 },
 "nbformat": 4,
 "nbformat_minor": 2
}
